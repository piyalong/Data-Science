{
 "cells": [
  {
   "cell_type": "markdown",
   "id": "791baf49-f011-45d3-871a-9f996df6cd70",
   "metadata": {},
   "source": [
    "## Recurrent Neural Network (RNN)\n",
    "\n",
    "Not like Sequential neural networks that we have been using, RNNs are networks with loops in them, allowing information to persist.\n",
    "\n",
    "Pytorch has better examples and clear defination of the hidden state hence is used in this example to show the parameters in a simple RNN. The actual LSTM or GRU have more complicated structures\n",
    "\n",
    "<center><img src=\"https://github.com/jtao/AdvancedML/blob/main/images/RNN_unrolled.png?raw=1\" width=\"600\"/><br/>Credit: colah.github.io</center>"
   ]
  },
  {
   "cell_type": "code",
   "execution_count": 1,
   "id": "93e2683f-1f98-4da2-9f52-256676eb6cbb",
   "metadata": {},
   "outputs": [],
   "source": [
    "import torch\n",
    "from torchsummary import summary\n",
    "rnn = torch.nn.RNN(10, 2, 1)\n",
    "input = torch.randn(1, 3, 10)\n",
    "h0 = torch.randn(1, 3, 2)\n",
    "output, hn = rnn(input, h0)"
   ]
  },
  {
   "cell_type": "code",
   "execution_count": 2,
   "id": "e4940d54-bfc5-41ea-a2a0-85ed93151f59",
   "metadata": {},
   "outputs": [
    {
     "name": "stdout",
     "output_type": "stream",
     "text": [
      "Parameter containing:\n",
      "tensor([[ 0.2361, -0.2594, -0.3566, -0.5244, -0.1461,  0.1667, -0.3963, -0.4134,\n",
      "         -0.0260,  0.0139],\n",
      "        [-0.6028,  0.6335,  0.0098, -0.6904, -0.5671,  0.2644,  0.2656,  0.5480,\n",
      "         -0.1348, -0.2807]], requires_grad=True)\n",
      "Parameter containing:\n",
      "tensor([[-0.0360, -0.5383],\n",
      "        [ 0.4553, -0.2628]], requires_grad=True)\n",
      "Parameter containing:\n",
      "tensor([-0.5872, -0.0482], requires_grad=True)\n",
      "Parameter containing:\n",
      "tensor([-0.2039,  0.4515], requires_grad=True)\n"
     ]
    }
   ],
   "source": [
    "for p in rnn.parameters():\n",
    "    print(p)"
   ]
  },
  {
   "cell_type": "code",
   "execution_count": 3,
   "id": "ecce2f99-4075-4eef-8e8c-c7f62407e782",
   "metadata": {},
   "outputs": [
    {
     "data": {
      "text/plain": [
       "28"
      ]
     },
     "execution_count": 3,
     "metadata": {},
     "output_type": "execute_result"
    }
   ],
   "source": [
    "pytorch_total_params = sum(p.numel() for p in rnn.parameters() if p.requires_grad)\n",
    "pytorch_total_params"
   ]
  },
  {
   "cell_type": "code",
   "execution_count": null,
   "id": "da005386-ff0b-43db-9dfe-ee4eb0b1acc8",
   "metadata": {},
   "outputs": [],
   "source": []
  }
 ],
 "metadata": {
  "kernelspec": {
   "display_name": "Python 3 (ipykernel)",
   "language": "python",
   "name": "python3"
  },
  "language_info": {
   "codemirror_mode": {
    "name": "ipython",
    "version": 3
   },
   "file_extension": ".py",
   "mimetype": "text/x-python",
   "name": "python",
   "nbconvert_exporter": "python",
   "pygments_lexer": "ipython3",
   "version": "3.10.6"
  }
 },
 "nbformat": 4,
 "nbformat_minor": 5
}
